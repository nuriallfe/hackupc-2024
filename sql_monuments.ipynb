{
 "cells": [
  {
   "cell_type": "markdown",
   "metadata": {},
   "source": [
    "## Vector Search with IRIS SQL\n",
    "This tutorial covers how to use IRIS as a vector database. \n",
    "\n",
    "For this tutorial, we will use a dataset of 2.2k online reviews of scotch (\n",
    "dataset from https://www.kaggle.com/datasets/koki25ando/22000-scotch-whisky-reviews) . With our latest vector database functionality, we can leverage the latest embedding models to run semantic search on the online reviews of scotch whiskeys. In addition, we'll be able to apply filters on columns with structured data. For example, we will be able to search for whiskeys that are priced under $100, and are 'earthy, smooth, and easy to drink'. Let's find our perfect whiskey!"
   ]
  },
  {
   "cell_type": "code",
   "execution_count": 12,
   "metadata": {},
   "outputs": [],
   "source": [
    "import os, pandas as pd\n",
    "from sentence_transformers import SentenceTransformer\n",
    "from sqlalchemy import create_engine, text"
   ]
  },
  {
   "cell_type": "code",
   "execution_count": 13,
   "metadata": {},
   "outputs": [],
   "source": [
    "username = 'demo'\n",
    "password = 'demo'\n",
    "hostname = os.getenv('IRIS_HOSTNAME', 'localhost')\n",
    "port = '1972' \n",
    "namespace = 'USER'\n",
    "CONNECTION_STRING = f\"iris://{username}:{password}@{hostname}:{port}/{namespace}\""
   ]
  },
  {
   "cell_type": "code",
   "execution_count": 14,
   "metadata": {},
   "outputs": [],
   "source": [
    "engine = create_engine(CONNECTION_STRING)"
   ]
  },
  {
   "cell_type": "code",
   "execution_count": 15,
   "metadata": {},
   "outputs": [],
   "source": [
    "# Load the CSV file\n",
    "df = pd.read_csv('./data/data.csv')"
   ]
  },
  {
   "cell_type": "code",
   "execution_count": 16,
   "metadata": {},
   "outputs": [
    {
     "data": {
      "text/html": [
       "<div>\n",
       "<style scoped>\n",
       "    .dataframe tbody tr th:only-of-type {\n",
       "        vertical-align: middle;\n",
       "    }\n",
       "\n",
       "    .dataframe tbody tr th {\n",
       "        vertical-align: top;\n",
       "    }\n",
       "\n",
       "    .dataframe thead th {\n",
       "        text-align: right;\n",
       "    }\n",
       "</style>\n",
       "<table border=\"1\" class=\"dataframe\">\n",
       "  <thead>\n",
       "    <tr style=\"text-align: right;\">\n",
       "      <th></th>\n",
       "      <th>landmark</th>\n",
       "      <th>latitude</th>\n",
       "      <th>longitude</th>\n",
       "      <th>wiki_title</th>\n",
       "      <th>image_url</th>\n",
       "      <th>wiki_content</th>\n",
       "    </tr>\n",
       "  </thead>\n",
       "  <tbody>\n",
       "    <tr>\n",
       "      <th>0</th>\n",
       "      <td>Eiffel Tower, Paris, France</td>\n",
       "      <td>48.858260</td>\n",
       "      <td>2.294501</td>\n",
       "      <td>Eiffel Tower</td>\n",
       "      <td>https://upload.wikimedia.org/wikipedia/commons...</td>\n",
       "      <td>The Eiffel Tower ( EYE-fəl; French: Tour Eiffe...</td>\n",
       "    </tr>\n",
       "    <tr>\n",
       "      <th>1</th>\n",
       "      <td>Colosseum, Rome, Italy</td>\n",
       "      <td>41.890261</td>\n",
       "      <td>12.493087</td>\n",
       "      <td>Colosseum</td>\n",
       "      <td>https://upload.wikimedia.org/wikipedia/commons...</td>\n",
       "      <td>The Colosseum ( KOL-ə-SEE-əm; Italian: Colosse...</td>\n",
       "    </tr>\n",
       "    <tr>\n",
       "      <th>2</th>\n",
       "      <td>Sagrada Familia, Barcelona, Spain</td>\n",
       "      <td>41.403505</td>\n",
       "      <td>2.174428</td>\n",
       "      <td>Sagrada Família</td>\n",
       "      <td>https://upload.wikimedia.org/wikipedia/commons...</td>\n",
       "      <td>The Basílica i Temple Expiatori de la Sagrada ...</td>\n",
       "    </tr>\n",
       "    <tr>\n",
       "      <th>3</th>\n",
       "      <td>Acropolis of Athens, Greece</td>\n",
       "      <td>37.971689</td>\n",
       "      <td>23.726320</td>\n",
       "      <td>Acropolis of Athens</td>\n",
       "      <td>https://upload.wikimedia.org/wikipedia/commons...</td>\n",
       "      <td>The Acropolis of Athens (Ancient Greek: ἡ Ἀκρό...</td>\n",
       "    </tr>\n",
       "    <tr>\n",
       "      <th>4</th>\n",
       "      <td>Saint Basil's Cathedral, Moscow, Russia</td>\n",
       "      <td>55.752474</td>\n",
       "      <td>37.623162</td>\n",
       "      <td>Saint Basil's Cathedral</td>\n",
       "      <td>https://upload.wikimedia.org/wikipedia/commons...</td>\n",
       "      <td>The Cathedral of Vasily the Blessed (Russian: ...</td>\n",
       "    </tr>\n",
       "  </tbody>\n",
       "</table>\n",
       "</div>"
      ],
      "text/plain": [
       "                                  landmark   latitude  longitude  \\\n",
       "0              Eiffel Tower, Paris, France  48.858260   2.294501   \n",
       "1                   Colosseum, Rome, Italy  41.890261  12.493087   \n",
       "2        Sagrada Familia, Barcelona, Spain  41.403505   2.174428   \n",
       "3              Acropolis of Athens, Greece  37.971689  23.726320   \n",
       "4  Saint Basil's Cathedral, Moscow, Russia  55.752474  37.623162   \n",
       "\n",
       "                wiki_title                                          image_url  \\\n",
       "0             Eiffel Tower  https://upload.wikimedia.org/wikipedia/commons...   \n",
       "1                Colosseum  https://upload.wikimedia.org/wikipedia/commons...   \n",
       "2          Sagrada Família  https://upload.wikimedia.org/wikipedia/commons...   \n",
       "3      Acropolis of Athens  https://upload.wikimedia.org/wikipedia/commons...   \n",
       "4  Saint Basil's Cathedral  https://upload.wikimedia.org/wikipedia/commons...   \n",
       "\n",
       "                                        wiki_content  \n",
       "0  The Eiffel Tower ( EYE-fəl; French: Tour Eiffe...  \n",
       "1  The Colosseum ( KOL-ə-SEE-əm; Italian: Colosse...  \n",
       "2  The Basílica i Temple Expiatori de la Sagrada ...  \n",
       "3  The Acropolis of Athens (Ancient Greek: ἡ Ἀκρό...  \n",
       "4  The Cathedral of Vasily the Blessed (Russian: ...  "
      ]
     },
     "execution_count": 16,
     "metadata": {},
     "output_type": "execute_result"
    }
   ],
   "source": [
    "df.head()"
   ]
  },
  {
   "cell_type": "code",
   "execution_count": 17,
   "metadata": {},
   "outputs": [],
   "source": [
    "\n",
    "# Replace NaN values in other columns with an empty string\n",
    "df.fillna('', inplace=True)"
   ]
  },
  {
   "cell_type": "code",
   "execution_count": 18,
   "metadata": {},
   "outputs": [
    {
     "data": {
      "text/html": [
       "<div>\n",
       "<style scoped>\n",
       "    .dataframe tbody tr th:only-of-type {\n",
       "        vertical-align: middle;\n",
       "    }\n",
       "\n",
       "    .dataframe tbody tr th {\n",
       "        vertical-align: top;\n",
       "    }\n",
       "\n",
       "    .dataframe thead th {\n",
       "        text-align: right;\n",
       "    }\n",
       "</style>\n",
       "<table border=\"1\" class=\"dataframe\">\n",
       "  <thead>\n",
       "    <tr style=\"text-align: right;\">\n",
       "      <th></th>\n",
       "      <th>landmark</th>\n",
       "      <th>latitude</th>\n",
       "      <th>longitude</th>\n",
       "      <th>wiki_title</th>\n",
       "      <th>image_url</th>\n",
       "      <th>wiki_content</th>\n",
       "    </tr>\n",
       "  </thead>\n",
       "  <tbody>\n",
       "    <tr>\n",
       "      <th>0</th>\n",
       "      <td>Eiffel Tower, Paris, France</td>\n",
       "      <td>48.858260</td>\n",
       "      <td>2.294501</td>\n",
       "      <td>Eiffel Tower</td>\n",
       "      <td>https://upload.wikimedia.org/wikipedia/commons...</td>\n",
       "      <td>The Eiffel Tower ( EYE-fəl; French: Tour Eiffe...</td>\n",
       "    </tr>\n",
       "    <tr>\n",
       "      <th>1</th>\n",
       "      <td>Colosseum, Rome, Italy</td>\n",
       "      <td>41.890261</td>\n",
       "      <td>12.493087</td>\n",
       "      <td>Colosseum</td>\n",
       "      <td>https://upload.wikimedia.org/wikipedia/commons...</td>\n",
       "      <td>The Colosseum ( KOL-ə-SEE-əm; Italian: Colosse...</td>\n",
       "    </tr>\n",
       "    <tr>\n",
       "      <th>2</th>\n",
       "      <td>Sagrada Familia, Barcelona, Spain</td>\n",
       "      <td>41.403505</td>\n",
       "      <td>2.174428</td>\n",
       "      <td>Sagrada Família</td>\n",
       "      <td>https://upload.wikimedia.org/wikipedia/commons...</td>\n",
       "      <td>The Basílica i Temple Expiatori de la Sagrada ...</td>\n",
       "    </tr>\n",
       "    <tr>\n",
       "      <th>3</th>\n",
       "      <td>Acropolis of Athens, Greece</td>\n",
       "      <td>37.971689</td>\n",
       "      <td>23.726320</td>\n",
       "      <td>Acropolis of Athens</td>\n",
       "      <td>https://upload.wikimedia.org/wikipedia/commons...</td>\n",
       "      <td>The Acropolis of Athens (Ancient Greek: ἡ Ἀκρό...</td>\n",
       "    </tr>\n",
       "    <tr>\n",
       "      <th>4</th>\n",
       "      <td>Saint Basil's Cathedral, Moscow, Russia</td>\n",
       "      <td>55.752474</td>\n",
       "      <td>37.623162</td>\n",
       "      <td>Saint Basil's Cathedral</td>\n",
       "      <td>https://upload.wikimedia.org/wikipedia/commons...</td>\n",
       "      <td>The Cathedral of Vasily the Blessed (Russian: ...</td>\n",
       "    </tr>\n",
       "  </tbody>\n",
       "</table>\n",
       "</div>"
      ],
      "text/plain": [
       "                                  landmark   latitude  longitude  \\\n",
       "0              Eiffel Tower, Paris, France  48.858260   2.294501   \n",
       "1                   Colosseum, Rome, Italy  41.890261  12.493087   \n",
       "2        Sagrada Familia, Barcelona, Spain  41.403505   2.174428   \n",
       "3              Acropolis of Athens, Greece  37.971689  23.726320   \n",
       "4  Saint Basil's Cathedral, Moscow, Russia  55.752474  37.623162   \n",
       "\n",
       "                wiki_title                                          image_url  \\\n",
       "0             Eiffel Tower  https://upload.wikimedia.org/wikipedia/commons...   \n",
       "1                Colosseum  https://upload.wikimedia.org/wikipedia/commons...   \n",
       "2          Sagrada Família  https://upload.wikimedia.org/wikipedia/commons...   \n",
       "3      Acropolis of Athens  https://upload.wikimedia.org/wikipedia/commons...   \n",
       "4  Saint Basil's Cathedral  https://upload.wikimedia.org/wikipedia/commons...   \n",
       "\n",
       "                                        wiki_content  \n",
       "0  The Eiffel Tower ( EYE-fəl; French: Tour Eiffe...  \n",
       "1  The Colosseum ( KOL-ə-SEE-əm; Italian: Colosse...  \n",
       "2  The Basílica i Temple Expiatori de la Sagrada ...  \n",
       "3  The Acropolis of Athens (Ancient Greek: ἡ Ἀκρό...  \n",
       "4  The Cathedral of Vasily the Blessed (Russian: ...  "
      ]
     },
     "execution_count": 18,
     "metadata": {},
     "output_type": "execute_result"
    }
   ],
   "source": [
    "df.head()"
   ]
  },
  {
   "cell_type": "markdown",
   "metadata": {},
   "source": [
    "Now, InterSystems IRIS supports vectors as a datatype in tables! Here, we create a table with a few different columns. The last column, 'description_vector', will be used to store vectors that are generated by passing the 'description' of a review through an embedding model."
   ]
  },
  {
   "cell_type": "code",
   "execution_count": 27,
   "metadata": {},
   "outputs": [],
   "source": [
    "\n",
    "with engine.connect() as conn:\n",
    "    with conn.begin():# Load \n",
    "        sql = f\"\"\"\n",
    "                CREATE TABLE monuments (\n",
    "        landmark VARCHAR(255),\n",
    "        latitude DOUBLE,\n",
    "        longitude DOUBLE,\n",
    "        wiki_title VARCHAR(255),\n",
    "        image_url VARCHAR(20000),\n",
    "        wiki_content VARCHAR(20000),\n",
    "        description_vector VECTOR(DOUBLE, 384)\n",
    "        )\n",
    "                \"\"\"\n",
    "        result = conn.execute(text(sql))"
   ]
  },
  {
   "cell_type": "code",
   "execution_count": 28,
   "metadata": {},
   "outputs": [],
   "source": [
    "# Load a pre-trained sentence transformer model. This model's output vectors are of size 384\n",
    "model = SentenceTransformer('all-MiniLM-L6-v2') "
   ]
  },
  {
   "cell_type": "code",
   "execution_count": 29,
   "metadata": {},
   "outputs": [],
   "source": [
    "\n",
    "# Generate embeddings for all descriptions at once. Batch processing makes it faster\n",
    "embeddings = model.encode(df['wiki_content'].tolist(), normalize_embeddings=True)\n",
    "\n",
    "# Add the embeddings to the DataFrame\n",
    "df['description_vector'] = embeddings.tolist()\n"
   ]
  },
  {
   "cell_type": "code",
   "execution_count": 30,
   "metadata": {},
   "outputs": [
    {
     "data": {
      "text/plain": [
       "768"
      ]
     },
     "execution_count": 30,
     "metadata": {},
     "output_type": "execute_result"
    }
   ],
   "source": [
    "len(df['description_vector'][0])"
   ]
  },
  {
   "cell_type": "code",
   "execution_count": 31,
   "metadata": {},
   "outputs": [],
   "source": [
    "with engine.connect() as conn:\n",
    "    with conn.begin():\n",
    "        for index, row in df.iterrows():\n",
    "            sql = text(\"\"\"\n",
    "                INSERT INTO monuments \n",
    "                (landmark, latitude, longitude, wiki_title, image_url, wiki_content, description_vector) \n",
    "                VALUES (:landmark, :latitude, :longitude, :wiki_title, :image_url, :wiki_content, TO_VECTOR(:description_vector))\n",
    "            \"\"\")\n",
    "            conn.execute(sql, {\n",
    "                'landmark': row['landmark'], \n",
    "                'latitude': row['latitude'], \n",
    "                'longitude': row['longitude'], \n",
    "                'wiki_title': row['wiki_title'], \n",
    "                'image_url': row['image_url'], \n",
    "                'wiki_content': row['wiki_content'], \n",
    "                'description_vector': str(row['description_vector'])\n",
    "            })\n"
   ]
  },
  {
   "cell_type": "markdown",
   "metadata": {},
   "source": [
    "Let's look for a scotch that costs less than $100, and has an earthy and creamy taste."
   ]
  },
  {
   "cell_type": "code",
   "execution_count": 36,
   "metadata": {},
   "outputs": [],
   "source": [
    "description_search = \"Best monuments in Barcelona\"\n",
    "search_vector = model.encode(description_search, normalize_embeddings=True).tolist() # Convert search phrase into a vector"
   ]
  },
  {
   "cell_type": "code",
   "execution_count": 37,
   "metadata": {},
   "outputs": [],
   "source": [
    "with engine.connect() as conn:\n",
    "    with conn.begin():\n",
    "        sql = text(\"\"\"\n",
    "            SELECT TOP 10 * FROM monuments \n",
    "            WHERE latitude < 5000 \n",
    "            ORDER BY VECTOR_COSINE(description_vector, TO_VECTOR(:search_vector)) DESC\n",
    "        \"\"\")\n",
    "\n",
    "        results = conn.execute(sql, {'search_vector': str(search_vector)}).fetchall()\n"
   ]
  },
  {
   "cell_type": "code",
   "execution_count": 38,
   "metadata": {},
   "outputs": [
    {
     "name": "stdout",
     "output_type": "stream",
     "text": [
      "[('Pont du Gard, France', 43.9470703, 4.535600512520862, 'Pont du Gard', 'https://upload.wikimedia.org/wikipedia/commons/thumb/4/42/Pont_du_Gard_BLS.jpg/500px-Pont_du_Gard_BLS.jpg', \"The Pont du Gard is an ancient Roman aqueduct bridge built in the first century AD to carry water over 50 km (31 mi) to the Roman colony of Nemausus  ... (168 characters truncated) ... s added to UNESCO's list of World Heritage sites in 1985 because of its exceptional preservation, historical importance, and architectural ingenuity.\", '-.037369482219219207763,.0033026244491338729858,-.023289291188120841979,.0029516082722693681716,.052871260792016983032,-.017278179526329040527,.01912 ... (17932 characters truncated) ... 0305786,.013148564845323562622,-.021633584052324295043,-.021005593240261077881,-.054070044308900833129,-.028030565008521080017,.036217868328094482421'), (\"Fisherman's Bastion, Budapest, Hungary\", 47.50232795, 19.034710434555507, \"Fisherman's Bastion\", 'https://upload.wikimedia.org/wikipedia/commons/thumb/6/6a/Hal%C3%A1szb%C3%A1stya_2017.jpg/500px-Hal%C3%A1szb%C3%A1stya_2017.jpg', \"The Halászbástya (Hungarian pronunciation: [ˈhɒlaːzbaːʃcɒ]) or Fisherman's Bastion is one of the best known monuments in Budapest, located near the B ... (1003 characters truncated) ... n of the Matthias Church.\\r\\nSince 1987 it has been one of Budapest's World Heritage Sites as part of the Várkerület District (Buda Castle District).\", '-.042417664080858230591,.034512482583522796631,.019353060051798820496,.0014421457890421152114,.063946038484573364257,-.045088034123182296752,.0068432 ... (17953 characters truncated) ... 678,-.0021983911283314228057,-.034920733422040939331,-.0010733598610386252403,-.042729947715997695922,-.017579238861799240112,-.018749358132481575012'), ('Alhambra, Granada, Spain', 37.17605995, -3.5881102773279347, 'Alhambra', 'https://upload.wikimedia.org/wikipedia/commons/thumb/d/de/Dawn_Charles_V_Palace_Alhambra_Granada_Andalusia_Spain.jpg/500px-Dawn_Charles_V_Palace_Alhambra_Granada_Andalusia_Spain.jpg', 'The Alhambra (, Spanish: [aˈlambɾa]; Arabic: الْحَمْرَاء, romanized: al-ḥamrāʼ ) is a palace and fortress complex located in Granada, Andalusia, Spai ... (3529 characters truncated) ... es of decorative motifs. Additionally, \"stalactite\"-like sculpting, known as muqarnas, was used for three-dimensional features like vaulted ceilings.', '-.025574643164873123168,.028264483436942100524,.033750638365745544433,-.026306645944714546203,.059577614068984985351,-.084686964750289916992,-.007900 ... (17940 characters truncated) ... 135009,.020467510446906089782,-.029439100995659828186,-.015734577551484107971,-.048562686890363693237,-.013252168893814086914,.0089184828102588653564'), ('National Archaeological Museum, Athens, Greece', 37.9890123, 23.73295773748378, 'National Archaeological Museum, Athens', 'https://upload.wikimedia.org/wikipedia/commons/thumb/e/e0/Arch%C3%A4ologisches_Nationalmuseum_Athen.jpg/500px-Arch%C3%A4ologisches_Nationalmuseum_Athen.jpg', 'The National Archaeological Museum (Greek: Εθνικό Αρχαιολογικό Μουσείο, romanized: Ethnikó Archaiologikó Mouseío) in Athens houses some of the most i ... (332 characters truncated) ... as Street and Tositsas Street while its entrance is on the Patission Street adjacent to the historical building of the Athens Polytechnic university.', '-.014248204417526721954,.019206736236810684204,-.030518714338541030883,.036658231168985366821,.057370863854885101318,-.081649273633956909179,-.013639 ... (17950 characters truncated) ... 0289306,.0022841542959213256836,-.039179001003503799438,.0047223707661032676696,-.059539593756198883056,.034357398748397827148,.018502742052078247071'), ('La Concha Beach, San Sebastián, Spain', 43.31770125, -1.9863683688389784, 'Beach of La Concha', 'https://upload.wikimedia.org/wikipedia/commons/thumb/2/21/Aterrizaje_en_la_playa_de_la_Concha_del_bombardero_modelo_Heinkel_111%2C_que_ven%C3%ADa_dir ... (35 characters truncated) ... n_Degrelle%2C_piloto_belga_y_cabeza_del_partido_nazi_en_B%C3%A9lgica_en_la_Segunda..._%285_de_5%29_-_Fondo_Car-Kutxa_Fototeka.jpg/500px-thumbnail.jpg', 'The Beach of La Concha (Basque: Kontxa Hondartza [kontʃa ondarts̻a]; Spanish: Playa de La Concha [ˈplaʝa ðe la ˈkontʃa], \"cone shell beach\") is a cre ... (903 characters truncated) ... d shallow substrate, in which the tide fluctuation greatly affects the area available for use. It can be considered an urban beach in widespread use.', '-.019655952230095863342,-.029014969244599342346,.061618093401193618774,-.0042243669740855693817,.045002900063991546631,-.075623065233230590821,-.0483 ... (17949 characters truncated) ... 486,-.0032772342674434185028,-.10335677117109298706,-.00085914623923599720001,-.032160151749849319458,-.016836974769830703736,.0095271393656730651856'), ('Knossos Palace, Crete, Greece', 35.2980573, 25.16281323448937, 'Knossos', 'https://upload.wikimedia.org/wikipedia/commons/thumb/e/ea/Knossos_-_North_Portico_02.jpg/500px-Knossos_-_North_Portico_02.jpg', 'Knossos (pronounced ; Ancient Greek: Κνωσσός, romanized: Knōssós, pronounced [knɔː.sós]; Linear B: 𐀒𐀜𐀰 Ko-no-so) is a Bronze Age archaeological site  ... (1019 characters truncated) ... inoan Civilization, his work is controversial in particular for his inaccurate and irreversible reconstructions of architectural remains at the site.', '-.016219569370150566101,.026778208091855049133,.0020797341130673885346,.0028629498556256294251,.027702651917934417724,-.012164713814854621887,-.02272 ... (17975 characters truncated) ... 4451599,.0038359293248504400253,-.054822556674480438232,.013057591393589973449,-.053756613284349441528,.044771905988454818726,.0016066767275333404541'), ('National Art Museum of Catalonia, Barcelona, Spain', 41.36840145, 2.1534231089008253, \"Museu Nacional d'Art de Catalunya\", 'https://upload.wikimedia.org/wikipedia/commons/thumb/c/c7/Museu_nacional_d%27art_de_catalunya_2.jpg/500px-Museu_nacional_d%27art_de_catalunya_2.jpg', 'The Museu Nacional d\\'Art de Catalunya (Catalan pronunciation: [muˈzɛw nəsi.uˈnal ˈdaɾd də kətəˈluɲə]; English: \"National Art Museum of Catalonia\"),  ... (1096 characters truncated) ... 4. The Museu Nacional d\\'Art de Catalunya (Museu Nacional) was officially inaugurated on 16 December 2004. It is one of the largest museums in Spain.', '.00061249814461916685104,.042308401316404342651,.017480734735727310181,-.047015789896249771118,.055392920970916748046,-.0084867123514413833618,.02591 ... (17933 characters truncated) ... 2102966,-.0098768267780542373657,-.024363666772842407226,.043691143393516540527,.014823873527348041534,-.015686169266700744628,.035561993718147277832'), ('Arc de Triomphe, Paris, France', 48.8737791, 2.295037226037673, 'Arc de Triomphe', 'https://upload.wikimedia.org/wikipedia/commons/thumb/7/79/Arc_de_Triomphe%2C_Paris_21_October_2010.jpg/500px-Arc_de_Triomphe%2C_Paris_21_October_2010.jpg', 'The Arc de Triomphe de l\\'Étoile is one of the most famous monuments in Paris, France, standing at the western end of the Champs-Élysées at the centr ... (1595 characters truncated) ... r at 60 m (197 ft). The Grande Arche in La Défense near Paris is 110 metres high, and, if considered to be a triumphal arch, is the world\\'s tallest.', '.0014613055391237139701,.013493000529706478118,-.028969429433345794677,.016668267548084259033,.044465072453022003173,-.087772928178310394287,.0065072 ... (17919 characters truncated) ... 18981,.062750734388828277587,-.063312023878097534179,.0080951312556862831116,-.029018342494964599609,.0089328028261661529541,-.0079480204731225967407'), ('Park Güell, Barcelona, Spain', 41.41423475, 2.1524575933189065, 'Park Güell', 'https://upload.wikimedia.org/wikipedia/commons/thumb/3/33/Parc_guell_-_panoramio.jpg/500px-Parc_guell_-_panoramio.jpg', 'Park Güell (Catalan: Parc Güell [ˈpaɾɡ ˈɡweʎ]; Spanish: Parque Güell) is a privatized park system composed of gardens and architectural elements loca ... (432 characters truncated) ... 14 and was officially opened as a public park in 1926. In 1984, UNESCO declared the park a World Heritage Site under \"Works of Antoni Gaudí\".\\r\\n\\r\\n', '-.044583726674318313598,.017526037991046905517,.070076368749141693116,-.014656163752079010009,.068474389612674713134,-.013548771850764751434,-.010797 ... (17909 characters truncated) ... 34509,-.012950380332767963409,-.044271465390920639038,-.0052882907912135124206,-.046637475490570068359,-.047887619584798812866,.032802682369947433471'), ('Epidaurus Theater, Greece', 37.59600275, 23.079421938037385, 'Epidaurus', 'https://upload.wikimedia.org/wikipedia/commons/thumb/6/66/20190511_172_epidaure.jpg/500px-20190511_172_epidaure.jpg', 'Epidaurus (Greek: Ἐπίδαυρος) was a small city (polis) in ancient Greece, on the Argolid Peninsula at the Saronic Gulf. Two modern towns bear the name ... (316 characters truncated) ... mplary architecture and importance in the development and spread of healing sanctuaries and cults across the ancient Greek and Roman worlds. \\r\\n\\r\\n', '.0026760490145534276962,.024014538154006004333,.012393148615956306457,.0069218189455568790436,.076205283403396606446,.0027088671922683715821,.0004780 ... (17963 characters truncated) ... 5019922,.051075745373964309692,-.045206930488348007202,-.024375313892960548401,-.065780907869338989257,.0090199811384081840516,.025459524244070053101')]\n"
     ]
    }
   ],
   "source": [
    "print(results)"
   ]
  },
  {
   "cell_type": "code",
   "execution_count": 39,
   "metadata": {},
   "outputs": [
    {
     "data": {
      "text/plain": [
       "0                                  Pont du Gard, France\n",
       "1                Fisherman's Bastion, Budapest, Hungary\n",
       "2                              Alhambra, Granada, Spain\n",
       "3        National Archaeological Museum, Athens, Greece\n",
       "4                 La Concha Beach, San Sebastián, Spain\n",
       "5                         Knossos Palace, Crete, Greece\n",
       "6    National Art Museum of Catalonia, Barcelona, Spain\n",
       "7                        Arc de Triomphe, Paris, France\n",
       "8                          Park Güell, Barcelona, Spain\n",
       "9                             Epidaurus Theater, Greece\n",
       "Name: landmark, dtype: object"
      ]
     },
     "execution_count": 39,
     "metadata": {},
     "output_type": "execute_result"
    }
   ],
   "source": [
    "results_df = pd.DataFrame(results, columns=df.columns).iloc[:, :-1] # Remove vector\n",
    "pd.set_option('display.max_colwidth', None)  # Easier to read description\n",
    "results_df[\"landmark\"].head(10)"
   ]
  }
 ],
 "metadata": {
  "kernelspec": {
   "display_name": "treehacks",
   "language": "python",
   "name": "python3"
  },
  "language_info": {
   "codemirror_mode": {
    "name": "ipython",
    "version": 3
   },
   "file_extension": ".py",
   "mimetype": "text/x-python",
   "name": "python",
   "nbconvert_exporter": "python",
   "pygments_lexer": "ipython3",
   "version": "3.11.9"
  }
 },
 "nbformat": 4,
 "nbformat_minor": 2
}
