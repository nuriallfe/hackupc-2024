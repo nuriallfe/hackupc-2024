{
 "cells": [
  {
   "cell_type": "code",
   "execution_count": 1,
   "metadata": {},
   "outputs": [
    {
     "name": "stderr",
     "output_type": "stream",
     "text": [
      "c:\\Users\\Usuario\\Documents\\Projectes\\Hack24\\hackupc-2024\\.venv\\Lib\\site-packages\\tqdm\\auto.py:21: TqdmWarning: IProgress not found. Please update jupyter and ipywidgets. See https://ipywidgets.readthedocs.io/en/stable/user_install.html\n",
      "  from .autonotebook import tqdm as notebook_tqdm\n"
     ]
    },
    {
     "name": "stdout",
     "output_type": "stream",
     "text": [
      "CREATE TABLE monuments (\n",
      "landmark VARCHAR(20000),\n",
      "latitude DOUBLE,\n",
      "longitude DOUBLE,\n",
      "wiki_title VARCHAR(20000),\n",
      "image_url VARCHAR(20000),\n",
      "wiki_content VARCHAR(20000), \n",
      " description_vector VECTOR(DOUBLE, 384)\n",
      ")\n",
      "\n",
      "                    SELECT TOP 10 * FROM monuments \n",
      "                    \n",
      "                    ORDER BY VECTOR_COSINE(description_vector, TO_VECTOR(:search_vector)) DESC\n",
      "                \n",
      "Empty DataFrame\n",
      "Columns: [landmark, latitude, longitude, wiki_title, image_url, wiki_content]\n",
      "Index: []\n"
     ]
    }
   ],
   "source": [
    "from test import MonumentSearch\n",
    "monument = MonumentSearch()\n",
    "\n",
    "print(monument.search_monuments(\"Top 10 worse\").head())"
   ]
  },
  {
   "cell_type": "code",
   "execution_count": 2,
   "metadata": {},
   "outputs": [
    {
     "name": "stdout",
     "output_type": "stream",
     "text": [
      "<generator object <genexpr> at 0x000001D9EDB10EE0>\n"
     ]
    }
   ],
   "source": [
    "search_vector = monument.model.encode(\"Top 10 worse\", normalize_embeddings=True).tolist()\n",
    "    with monument.engine.connect() as conn:\n",
    "        with conn.begin():\n",
    "            sql = text(f\"\"\"\n",
    "                SELECT TOP 10 * FROM {monument.name} \n",
    "                {condition}\n",
    "                ORDER BY VECTOR_COSINE(description_vector, TO_VECTOR(:search_vector)) DESC\n",
    "            \"\"\")\n",
    "            print(sql)\n",
    "\n",
    "            results = conn.execute(sql, {'search_vector': str(search_vector)}).fetchall()\n",
    "    results_df = pd.DataFrame(results, columns=monument.columns)"
   ]
  }
 ],
 "metadata": {
  "kernelspec": {
   "display_name": ".venv",
   "language": "python",
   "name": "python3"
  },
  "language_info": {
   "codemirror_mode": {
    "name": "ipython",
    "version": 3
   },
   "file_extension": ".py",
   "mimetype": "text/x-python",
   "name": "python",
   "nbconvert_exporter": "python",
   "pygments_lexer": "ipython3",
   "version": "3.11.9"
  }
 },
 "nbformat": 4,
 "nbformat_minor": 2
}
