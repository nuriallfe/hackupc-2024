{
 "cells": [
  {
   "cell_type": "code",
   "execution_count": 1,
   "metadata": {},
   "outputs": [],
   "source": [
    "from create_data_class import CreateDataLandmarks\n",
    "\n",
    "create_data  = CreateDataLandmarks(\"./data/whc-sites-2019.csv\", \"./data\")"
   ]
  },
  {
   "cell_type": "code",
   "execution_count": 8,
   "metadata": {},
   "outputs": [
    {
     "name": "stdout",
     "output_type": "stream",
     "text": [
      "Ulu<U>r</U>u-Kata Tju<U>t</U>a National Park\n",
      "S<U>G</U>ang Gwaay\n",
      "Fujian <em>Tulou</em>\n",
      "Cultural Landscape of Bali Province: the <em>Subak</em> System as a Manifestation of the <em>Tri Hita Karana</em> Philosophy\n",
      "The <I>Trulli</I> of Alberobello\n",
      "<I>Sacri Monti</I> of Piedmont and Lombardy\n",
      "Genoa: <i>Le Strade Nuove</i> and the system of the<i> Palazzi dei Rolli</i>\n",
      "Ancient <I>Ksour</I> of Ouadane, Chinguetti, Tichitt and Oualata\n",
      "Haeinsa Temple Janggyeong Panjeon, the Depositories for the <I>Tripitaka Koreana</I> Woodblocks\n",
      "Venetian Works of Defence between the 16th and 17th Centuries: <em>Stato da Terra</em> – Western <em>Stato da Mar</em>\n",
      "Wooden <em>Tserkvas</em> of the Carpathian Region in Poland and Ukraine\n",
      "1110\n"
     ]
    }
   ],
   "source": [
    "new_landmarks = []\n",
    "for i, k in enumerate(create_data.landmarks):\n",
    "    try:\n",
    "        create_data.wikipedia_data[k]\n",
    "        new_landmarks.append(k)\n",
    "    except:\n",
    "        pass\n",
    "print(len(create_data.wikipedia_data.keys()))"
   ]
  },
  {
   "cell_type": "code",
   "execution_count": 2,
   "metadata": {},
   "outputs": [
    {
     "ename": "NameError",
     "evalue": "name 'create_data' is not defined",
     "output_type": "error",
     "traceback": [
      "\u001b[1;31m---------------------------------------------------------------------------\u001b[0m",
      "\u001b[1;31mNameError\u001b[0m                                 Traceback (most recent call last)",
      "Cell \u001b[1;32mIn[2], line 1\u001b[0m\n\u001b[1;32m----> 1\u001b[0m \u001b[43mcreate_data\u001b[49m\n",
      "\u001b[1;31mNameError\u001b[0m: name 'create_data' is not defined"
     ]
    }
   ],
   "source": [
    "create_data.save_dataset()\n",
    "create_data.download_images()\n",
    "create_data.save_texts()"
   ]
  }
 ],
 "metadata": {
  "kernelspec": {
   "display_name": ".venv",
   "language": "python",
   "name": "python3"
  },
  "language_info": {
   "codemirror_mode": {
    "name": "ipython",
    "version": 3
   },
   "file_extension": ".py",
   "mimetype": "text/x-python",
   "name": "python",
   "nbconvert_exporter": "python",
   "pygments_lexer": "ipython3",
   "version": "3.11.9"
  }
 },
 "nbformat": 4,
 "nbformat_minor": 2
}
