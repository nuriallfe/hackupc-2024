{
 "cells": [
  {
   "cell_type": "markdown",
   "metadata": {},
   "source": [
    "### Run and connect to a containerized IRIS instance on a notebook"
   ]
  },
  {
   "cell_type": "code",
   "execution_count": null,
   "metadata": {},
   "outputs": [],
   "source": [
    "# !docker pull containers.intersystems.com/intersystems/iris-community:2024.1\n",
    "!docker pull intersystemsdc/iris-community:2024.1"
   ]
  },
  {
   "cell_type": "code",
   "execution_count": null,
   "metadata": {},
   "outputs": [],
   "source": [
    "\n",
    "from testcontainers.iris import IRISContainer\n",
    "import os\n",
    "\n",
    "image = 'intersystemsdc/iris-community:2024.1'\n",
    "container = IRISContainer(image, username=\"demo\", password=\"demo\", namespace=\"demo\")\n",
    "container.with_exposed_ports(1972, 52773)\n",
    "container.start()\n",
    "CONNECTION_STRING = container.get_connection_url(os.getenv(\"IRIS_HOSTNAME\",\"localhost\"))\n"
   ]
  },
  {
   "cell_type": "code",
   "execution_count": null,
   "metadata": {},
   "outputs": [],
   "source": [
    "print(CONNECTION_STRING)"
   ]
  },
  {
   "cell_type": "markdown",
   "metadata": {},
   "source": [
    "#### Using this connection string, you can connect and use IRIS as a vectordb via sql, langchain and llama_index as shown in the other demos.\n"
   ]
  }
 ],
 "metadata": {
  "kernelspec": {
   "display_name": "treehacks-test",
   "language": "python",
   "name": "python3"
  },
  "language_info": {
   "codemirror_mode": {
    "name": "ipython",
    "version": 3
   },
   "file_extension": ".py",
   "mimetype": "text/x-python",
   "name": "python",
   "nbconvert_exporter": "python",
   "pygments_lexer": "ipython3",
   "version": "3.10.13"
  }
 },
 "nbformat": 4,
 "nbformat_minor": 2
}
